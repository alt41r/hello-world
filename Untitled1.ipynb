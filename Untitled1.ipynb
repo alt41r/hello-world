{
  "nbformat": 4,
  "nbformat_minor": 0,
  "metadata": {
    "colab": {
      "name": "Untitled1.ipynb",
      "provenance": [],
      "authorship_tag": "ABX9TyOqEUqJbKgsgH+DYJ9IFEVF",
      "include_colab_link": true
    },
    "kernelspec": {
      "name": "python3",
      "display_name": "Python 3"
    },
    "language_info": {
      "name": "python"
    }
  },
  "cells": [
    {
      "cell_type": "markdown",
      "metadata": {
        "id": "view-in-github",
        "colab_type": "text"
      },
      "source": [
        "<a href=\"https://colab.research.google.com/github/alt41r/hello-world/blob/master/Untitled1.ipynb\" target=\"_parent\"><img src=\"https://colab.research.google.com/assets/colab-badge.svg\" alt=\"Open In Colab\"/></a>"
      ]
    },
    {
      "cell_type": "code",
      "metadata": {
        "id": "_LSRxfCVbXHC",
        "colab": {
          "base_uri": "https://localhost:8080/",
          "height": 255
        },
        "outputId": "5fe39dc4-6367-48c9-b63d-64c77bbbecb4"
      },
      "source": [
        "import numpy as np\n",
        "import pandas as pd\n",
        "\n",
        "ratings_df = pd.read_csv('ratings.csv')\n",
        "print('Unique users count: {}'.format(len(ratings_df['userId'].unique())))\n",
        "print('Unique movies count: {}'.format(len(ratings_df['movieId'].unique())))\n",
        "print('DataFrame shape: {}'.format(ratings_df.shape))\n",
        "\n",
        "ratings_df.head()\n"
      ],
      "execution_count": null,
      "outputs": [
        {
          "output_type": "stream",
          "text": [
            "Unique users count: 5257\n",
            "Unique movies count: 13571\n",
            "DataFrame shape: (788799, 4)\n"
          ],
          "name": "stdout"
        },
        {
          "output_type": "execute_result",
          "data": {
            "text/html": [
              "<div>\n",
              "<style scoped>\n",
              "    .dataframe tbody tr th:only-of-type {\n",
              "        vertical-align: middle;\n",
              "    }\n",
              "\n",
              "    .dataframe tbody tr th {\n",
              "        vertical-align: top;\n",
              "    }\n",
              "\n",
              "    .dataframe thead th {\n",
              "        text-align: right;\n",
              "    }\n",
              "</style>\n",
              "<table border=\"1\" class=\"dataframe\">\n",
              "  <thead>\n",
              "    <tr style=\"text-align: right;\">\n",
              "      <th></th>\n",
              "      <th>userId</th>\n",
              "      <th>movieId</th>\n",
              "      <th>rating</th>\n",
              "      <th>timestamp</th>\n",
              "    </tr>\n",
              "  </thead>\n",
              "  <tbody>\n",
              "    <tr>\n",
              "      <th>0</th>\n",
              "      <td>1</td>\n",
              "      <td>2.0</td>\n",
              "      <td>3.5</td>\n",
              "      <td>1.112486e+09</td>\n",
              "    </tr>\n",
              "    <tr>\n",
              "      <th>1</th>\n",
              "      <td>1</td>\n",
              "      <td>29.0</td>\n",
              "      <td>3.5</td>\n",
              "      <td>1.112485e+09</td>\n",
              "    </tr>\n",
              "    <tr>\n",
              "      <th>2</th>\n",
              "      <td>1</td>\n",
              "      <td>32.0</td>\n",
              "      <td>3.5</td>\n",
              "      <td>1.112485e+09</td>\n",
              "    </tr>\n",
              "    <tr>\n",
              "      <th>3</th>\n",
              "      <td>1</td>\n",
              "      <td>47.0</td>\n",
              "      <td>3.5</td>\n",
              "      <td>1.112485e+09</td>\n",
              "    </tr>\n",
              "    <tr>\n",
              "      <th>4</th>\n",
              "      <td>1</td>\n",
              "      <td>50.0</td>\n",
              "      <td>3.5</td>\n",
              "      <td>1.112485e+09</td>\n",
              "    </tr>\n",
              "  </tbody>\n",
              "</table>\n",
              "</div>"
            ],
            "text/plain": [
              "   userId  movieId  rating     timestamp\n",
              "0       1      2.0     3.5  1.112486e+09\n",
              "1       1     29.0     3.5  1.112485e+09\n",
              "2       1     32.0     3.5  1.112485e+09\n",
              "3       1     47.0     3.5  1.112485e+09\n",
              "4       1     50.0     3.5  1.112485e+09"
            ]
          },
          "metadata": {
            "tags": []
          },
          "execution_count": 4
        }
      ]
    },
    {
      "cell_type": "code",
      "metadata": {
        "colab": {
          "base_uri": "https://localhost:8080/"
        },
        "id": "VTuQWGN0g7Wi",
        "outputId": "c8ff858d-c3a6-48a1-d967-ee25d320bc3f"
      },
      "source": [
        "n = 100000\n",
        "ratings_df_sample = ratings_df[:n]\n",
        "\n",
        "n_users = len(ratings_df_sample['userId'].unique())\n",
        "n_movies = len(ratings_df_sample['movieId'].unique())\n",
        "(n_users, n_movies)\n",
        "\n"
      ],
      "execution_count": null,
      "outputs": [
        {
          "output_type": "execute_result",
          "data": {
            "text/plain": [
              "(702, 8227)"
            ]
          },
          "metadata": {
            "tags": []
          },
          "execution_count": 5
        }
      ]
    },
    {
      "cell_type": "code",
      "metadata": {
        "colab": {
          "base_uri": "https://localhost:8080/",
          "height": 306
        },
        "id": "CKZlIyWkiyRs",
        "outputId": "477570a8-47d9-4c74-85f4-123996a138a5"
      },
      "source": [
        "movie_ids = ratings_df_sample['movieId'].unique()\n",
        "\n",
        "def scale_movie_id(movie_id):\n",
        "    scaled = np.where(movie_ids == movie_id)[0][0] + 1\n",
        "    return scaled\n",
        "\n",
        "ratings_df_sample['movieId'] = ratings_df_sample['movieId'].apply(scale_movie_id)\n",
        "ratings_df_sample.head()"
      ],
      "execution_count": null,
      "outputs": [
        {
          "output_type": "stream",
          "text": [
            "/usr/local/lib/python3.7/dist-packages/ipykernel_launcher.py:7: SettingWithCopyWarning: \n",
            "A value is trying to be set on a copy of a slice from a DataFrame.\n",
            "Try using .loc[row_indexer,col_indexer] = value instead\n",
            "\n",
            "See the caveats in the documentation: https://pandas.pydata.org/pandas-docs/stable/user_guide/indexing.html#returning-a-view-versus-a-copy\n",
            "  import sys\n"
          ],
          "name": "stderr"
        },
        {
          "output_type": "execute_result",
          "data": {
            "text/html": [
              "<div>\n",
              "<style scoped>\n",
              "    .dataframe tbody tr th:only-of-type {\n",
              "        vertical-align: middle;\n",
              "    }\n",
              "\n",
              "    .dataframe tbody tr th {\n",
              "        vertical-align: top;\n",
              "    }\n",
              "\n",
              "    .dataframe thead th {\n",
              "        text-align: right;\n",
              "    }\n",
              "</style>\n",
              "<table border=\"1\" class=\"dataframe\">\n",
              "  <thead>\n",
              "    <tr style=\"text-align: right;\">\n",
              "      <th></th>\n",
              "      <th>userId</th>\n",
              "      <th>movieId</th>\n",
              "      <th>rating</th>\n",
              "      <th>timestamp</th>\n",
              "    </tr>\n",
              "  </thead>\n",
              "  <tbody>\n",
              "    <tr>\n",
              "      <th>0</th>\n",
              "      <td>1</td>\n",
              "      <td>1</td>\n",
              "      <td>3.5</td>\n",
              "      <td>1.112486e+09</td>\n",
              "    </tr>\n",
              "    <tr>\n",
              "      <th>1</th>\n",
              "      <td>1</td>\n",
              "      <td>2</td>\n",
              "      <td>3.5</td>\n",
              "      <td>1.112485e+09</td>\n",
              "    </tr>\n",
              "    <tr>\n",
              "      <th>2</th>\n",
              "      <td>1</td>\n",
              "      <td>3</td>\n",
              "      <td>3.5</td>\n",
              "      <td>1.112485e+09</td>\n",
              "    </tr>\n",
              "    <tr>\n",
              "      <th>3</th>\n",
              "      <td>1</td>\n",
              "      <td>4</td>\n",
              "      <td>3.5</td>\n",
              "      <td>1.112485e+09</td>\n",
              "    </tr>\n",
              "    <tr>\n",
              "      <th>4</th>\n",
              "      <td>1</td>\n",
              "      <td>5</td>\n",
              "      <td>3.5</td>\n",
              "      <td>1.112485e+09</td>\n",
              "    </tr>\n",
              "  </tbody>\n",
              "</table>\n",
              "</div>"
            ],
            "text/plain": [
              "   userId  movieId  rating     timestamp\n",
              "0       1        1     3.5  1.112486e+09\n",
              "1       1        2     3.5  1.112485e+09\n",
              "2       1        3     3.5  1.112485e+09\n",
              "3       1        4     3.5  1.112485e+09\n",
              "4       1        5     3.5  1.112485e+09"
            ]
          },
          "metadata": {
            "tags": []
          },
          "execution_count": 6
        }
      ]
    },
    {
      "cell_type": "code",
      "metadata": {
        "colab": {
          "base_uri": "https://localhost:8080/"
        },
        "id": "9OVUXGuMjSD_",
        "outputId": "e731f615-4054-41d8-f203-e0b893f73801"
      },
      "source": [
        "from sklearn.model_selection import train_test_split\n",
        "\n",
        "train_data,test_data = train_test_split(ratings_df_sample,test_size = 0.2)\n",
        "print('Train shape: {}'.format(train_data.shape))\n",
        "print('Test shape: {}'.format(test_data.shape))"
      ],
      "execution_count": null,
      "outputs": [
        {
          "output_type": "stream",
          "text": [
            "Train shape: (80000, 4)\n",
            "Test shape: (20000, 4)\n"
          ],
          "name": "stdout"
        }
      ]
    },
    {
      "cell_type": "code",
      "metadata": {
        "id": "q-B9S3IbvlLx"
      },
      "source": [
        "from sklearn.metrics import mean_squared_error\n",
        "from math import sqrt\n",
        "\n",
        "def rmse(prediction, ground_truth):\n",
        "  prediction= np.nan_to_num(prediction)[ground_truth.nonzero()].flatten()\n",
        "  ground_truth = np.nan_to_num(ground_truth)[ground_truth.nonzero()].flatten()\n",
        "  mse = mean_squared_error(prediction,ground_truth)\n",
        "  return mse"
      ],
      "execution_count": null,
      "outputs": []
    },
    {
      "cell_type": "code",
      "metadata": {
        "id": "2I19OkwcysjC"
      },
      "source": [
        "train_data_matrix = np.zeros((n_users, n_movies))\n",
        "for line in train_data.itertuples():\n",
        "  train_data_matrix[line[1]-1,line[2]-1]= line[3]\n",
        "\n",
        "test_data_matrix = np.zeros((n_users,n_movies))\n",
        "for line in test_data.itertuples():\n",
        "  test_data_matrix[line[1]-1,line[2]-1]=3"
      ],
      "execution_count": null,
      "outputs": []
    },
    {
      "cell_type": "code",
      "metadata": {
        "id": "Qm98RLHjbPlR"
      },
      "source": [
        "from sklearn.metrics.pairwise import pairwise_distances\n",
        "\n",
        "user_similarity = pairwise_distances(train_data_matrix,metric='cosine')\n",
        "item_similarity = pairwise_distances(train_data_matrix.T,metric='cosine')\n"
      ],
      "execution_count": null,
      "outputs": []
    },
    {
      "cell_type": "code",
      "metadata": {
        "colab": {
          "base_uri": "https://localhost:8080/"
        },
        "id": "Nx9o-1B0cmdh",
        "outputId": "3f09e1ad-9718-4e47-a80e-3e2a035748af"
      },
      "source": [
        "from scipy.spatial import distance\n",
        "print(distance.cosine([2,2],[1,1])) \n",
        "print(distance.cosine([3,3],[2,3]))\n",
        "print(distance.cosine([3, 3],[1, 1.5]))\n",
        "print(distance.cosine([3, 3],[1, 3]))\n",
        "demo_data = [[5,5,5,0,0], [4,1,0,5,3], [1,0,0,5,0], [5,0,5,0,4]]\n",
        "pairwise_distances(demo_data, metric='cosine')"
      ],
      "execution_count": null,
      "outputs": [
        {
          "output_type": "stream",
          "text": [
            "0.0\n",
            "0.01941932430907989\n",
            "0.01941932430907989\n",
            "0.10557280900008414\n"
          ],
          "name": "stdout"
        },
        {
          "output_type": "execute_result",
          "data": {
            "text/plain": [
              "array([[1.11022302e-16, 5.95773958e-01, 8.86772297e-01, 2.89330945e-01],\n",
              "       [5.95773958e-01, 1.11022302e-16, 2.03609197e-01, 4.48439797e-01],\n",
              "       [8.86772297e-01, 2.03609197e-01, 0.00000000e+00, 8.79298863e-01],\n",
              "       [2.89330945e-01, 4.48439797e-01, 8.79298863e-01, 2.22044605e-16]])"
            ]
          },
          "metadata": {
            "tags": []
          },
          "execution_count": 12
        }
      ]
    },
    {
      "cell_type": "code",
      "metadata": {
        "colab": {
          "base_uri": "https://localhost:8080/"
        },
        "id": "uxhmBpGHdiaZ",
        "outputId": "bd09260b-1cc6-4d1a-9e8d-ea95d017731a"
      },
      "source": [
        "def naive_predict(top):\n",
        "    # Структура для хранения для каждого пользователя оценки фильмов top наиболее похожих на него пользователей:\n",
        "    # top_similar_ratings[0][1] - оценки всех фильмов одного из наиболее похожих пользователей на пользователя с ид 0.\n",
        "    # Здесь 1 - это не ид пользователя, а просто порядковый номер.\n",
        "    top_similar_ratings = np.zeros((n_users, top, n_movies))\n",
        "\n",
        "    for i in range(n_users):\n",
        "        # Для каждого пользователя необходимо получить наиболее похожих пользователей:\n",
        "        # Нулевой элемент не подходит, т.к. на этом месте находится похожесть пользователя самого на себя\n",
        "        top_sim_users = user_similarity[i].argsort()[1:top + 1]\n",
        "        \n",
        "        # берём только оценки из \"обучающей\" выборки \n",
        "        top_similar_ratings[i] = train_data_matrix[top_sim_users]\n",
        "\n",
        "    pred = np.zeros((n_users, n_movies))\n",
        "    for i in range(n_users):\n",
        "        pred[i] = top_similar_ratings[i].sum(axis=0) / top\n",
        "    \n",
        "    return pred\n",
        "\n",
        "\n",
        "def naive_predict_item(top):\n",
        "    top_similar_ratings = np.zeros((n_movies, top, n_users))\n",
        "\n",
        "    for i in range(n_movies):\n",
        "        top_sim_movies = item_similarity[i].argsort()[1:top + 1]\n",
        "        top_similar_ratings[i] = train_data_matrix.T[top_sim_movies]\n",
        "        \n",
        "    pred = np.zeros((n_movies, n_users))\n",
        "    for i in range(n_movies):\n",
        "        pred[i] = top_similar_ratings[i].sum(axis=0) / top\n",
        "    \n",
        "    return pred.T\n",
        "\n",
        "naive_pred = naive_predict(7)\n",
        "print('User-based CF RMSE: ', rmse(naive_pred, test_data_matrix))\n",
        "\n",
        "naive_pred_item = naive_predict_item(7)\n",
        "print('Item-based CF RMSE: ', rmse(naive_pred_item, test_data_matrix))"
      ],
      "execution_count": null,
      "outputs": [
        {
          "output_type": "stream",
          "text": [
            "User-based CF RMSE:  4.943794387755103\n",
            "Item-based CF RMSE:  5.718505612244899\n"
          ],
          "name": "stdout"
        }
      ]
    }
  ]
}